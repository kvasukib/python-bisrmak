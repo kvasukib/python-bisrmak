{
 "cells": [
  {
   "cell_type": "code",
   "execution_count": 19,
   "metadata": {
    "collapsed": false
   },
   "outputs": [],
   "source": [
    "#Input and output files\n",
    "input_path = '/Users/Alex/Documents/pythoncode/'\n",
    "input_file_name = 'ucsd.targets'\n",
    "output_file_name = 'ucsd.sc-targets'"
   ]
  },
  {
   "cell_type": "code",
   "execution_count": 20,
   "metadata": {
    "collapsed": false
   },
   "outputs": [],
   "source": [
    "import csv , matplotlib\n",
    "import matplotlib.pyplot as plt\n",
    "import numpy as np\n",
    "from pylab import rcParams\n",
    "from pprint import pprint\n",
    "from matplotlib.gridspec import GridSpec\n",
    "%matplotlib inline"
   ]
  },
  {
   "cell_type": "code",
   "execution_count": 21,
   "metadata": {
    "collapsed": false
   },
   "outputs": [],
   "source": [
    "def bismark_parser(path, input_file, output_file):\n",
    "    #Input: file with targets from bordermap run\n",
    "    #output: sc_attach-readable file\n",
    "    \n",
    "    in_file = input_path + input_file_name\n",
    "    out_file = input_path + output_file_name\n",
    "    \n",
    "    with open(in_file, 'rb') as f: #import file\n",
    "\n",
    "        reader = csv.reader(f, delimiter=' ') #read file into variable reader, delimited using space\n",
    "        g = open(out_file,'w+')\n",
    "        for row in reader: #for as long as there is file\n",
    "            \n",
    "            #read values from file: IP, TTL, ICMP checksum\n",
    "            ip = row[1]\n",
    "            ttl = row[2]\n",
    "            icmp = row[3]\n",
    "            \n",
    "            #format data for sc_attach to read:\n",
    "            #ping -C <sum> -M <ttl> <destination-ip>\n",
    "            line = 'ping -C ' + icmp + ' -M ' + ttl + ' ' + ip + '\\n'\n",
    "            g.write(line) # python will convert \\n to os.linesep\n",
    "            \n",
    "    f.close() #close files\n",
    "    g.close()\n",
    "    return ()\n",
    "    \n"
   ]
  },
  {
   "cell_type": "code",
   "execution_count": 22,
   "metadata": {
    "collapsed": false
   },
   "outputs": [
    {
     "data": {
      "text/plain": [
       "()"
      ]
     },
     "execution_count": 22,
     "metadata": {},
     "output_type": "execute_result"
    }
   ],
   "source": [
    "bismark_parser(input_path, input_file_name, output_file_name)\n"
   ]
  },
  {
   "cell_type": "code",
   "execution_count": null,
   "metadata": {
    "collapsed": true
   },
   "outputs": [],
   "source": []
  }
 ],
 "metadata": {
  "kernelspec": {
   "display_name": "Python 2",
   "language": "python",
   "name": "python2"
  },
  "language_info": {
   "codemirror_mode": {
    "name": "ipython",
    "version": 2
   },
   "file_extension": ".py",
   "mimetype": "text/x-python",
   "name": "python",
   "nbconvert_exporter": "python",
   "pygments_lexer": "ipython2",
   "version": "2.7.11"
  }
 },
 "nbformat": 4,
 "nbformat_minor": 0
}
